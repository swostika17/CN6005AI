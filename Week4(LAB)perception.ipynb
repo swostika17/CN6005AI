{
  "nbformat": 4,
  "nbformat_minor": 0,
  "metadata": {
    "colab": {
      "provenance": [],
      "authorship_tag": "ABX9TyOt0fPCInOZ1yyKYsRehJ40",
      "include_colab_link": true
    },
    "kernelspec": {
      "name": "python3",
      "display_name": "Python 3"
    },
    "language_info": {
      "name": "python"
    }
  },
  "cells": [
    {
      "cell_type": "markdown",
      "metadata": {
        "id": "view-in-github",
        "colab_type": "text"
      },
      "source": [
        "<a href=\"https://colab.research.google.com/github/swostika17/CN6005AI/blob/main/Week4(LAB)perception.ipynb\" target=\"_parent\"><img src=\"https://colab.research.google.com/assets/colab-badge.svg\" alt=\"Open In Colab\"/></a>"
      ]
    },
    {
      "cell_type": "code",
      "source": [
        "from google.colab import drive\n",
        "drive.mount('/content/drive')"
      ],
      "metadata": {
        "colab": {
          "base_uri": "https://localhost:8080/"
        },
        "id": "Z42k2NaqdG-i",
        "outputId": "7531f1be-5eaa-4c2c-b063-ed56158413c1"
      },
      "execution_count": 93,
      "outputs": [
        {
          "output_type": "stream",
          "name": "stdout",
          "text": [
            "Drive already mounted at /content/drive; to attempt to forcibly remount, call drive.mount(\"/content/drive\", force_remount=True).\n"
          ]
        }
      ]
    },
    {
      "cell_type": "code",
      "source": [
        "def sumofXW(inputs, weights):\n",
        "    return inputs.dot(weights)"
      ],
      "metadata": {
        "id": "q10qUpirdo21"
      },
      "execution_count": 94,
      "outputs": []
    },
    {
      "cell_type": "code",
      "source": [
        "def step_function(sum_func):\n",
        "  if (sum_func >= 1):\n",
        "    #print(f'The Sum Function is greater than or equal to 1')\n",
        "    return 1\n",
        "  else:\n",
        "        #print(f'The Sum Function is NOT greater than zero')\n",
        "        return 0"
      ],
      "metadata": {
        "id": "tyjSzxCYdvQa"
      },
      "execution_count": 95,
      "outputs": []
    },
    {
      "cell_type": "code",
      "source": [
        "# for weights = [0.7, 0.1]\n",
        "import numpy as np\n",
        "weights = np.array([0.7, 0.1])\n",
        "inputs = np.array([55, 75])\n",
        "s_prob1 = sumofXW(inputs, weights)\n",
        "s_prob1\n",
        "output=step_function(s_prob1 )\n",
        "print(output)\n"
      ],
      "metadata": {
        "colab": {
          "base_uri": "https://localhost:8080/"
        },
        "id": "aYYvTYUad0tp",
        "outputId": "309d23e6-1622-452a-a8a5-1d85f3475942"
      },
      "execution_count": 96,
      "outputs": [
        {
          "output_type": "stream",
          "name": "stdout",
          "text": [
            "1\n"
          ]
        }
      ]
    },
    {
      "cell_type": "code",
      "source": [
        "weights = np.array([-0.7, -0.1])"
      ],
      "metadata": {
        "id": "S_tf3WN1d5xn"
      },
      "execution_count": 97,
      "outputs": []
    },
    {
      "cell_type": "code",
      "source": [
        "s_prob2 = sumofXW(inputs, weights)\n",
        "print(s_prob2)\n",
        "output=step_function(s_prob2 )\n",
        "print(output)"
      ],
      "metadata": {
        "colab": {
          "base_uri": "https://localhost:8080/"
        },
        "id": "0Yh_cjvpd9g7",
        "outputId": "f6a40227-93cc-4646-f255-5552eb510114"
      },
      "execution_count": 98,
      "outputs": [
        {
          "output_type": "stream",
          "name": "stdout",
          "text": [
            "-46.0\n",
            "0\n"
          ]
        }
      ]
    },
    {
      "cell_type": "code",
      "source": [
        "# Decalre a matrix for X1 and X2  having four rows.\n",
        "import numpy as np\n",
        "inputs = np.array([[0,0], [0,1], [1,0], [1,1]])\n",
        "#checking the shape of the input matrix\n",
        "# it is two dimension matrix haing 4 rows and 2 columns.\n",
        "print(inputs.shape)"
      ],
      "metadata": {
        "colab": {
          "base_uri": "https://localhost:8080/"
        },
        "id": "mhosEOnUeAri",
        "outputId": "40203eec-b82f-4181-d0f1-a3c283bd9d2b"
      },
      "execution_count": 99,
      "outputs": [
        {
          "output_type": "stream",
          "name": "stdout",
          "text": [
            "(4, 2)\n"
          ]
        }
      ]
    },
    {
      "cell_type": "code",
      "source": [
        "# create a output y having four rowa\n",
        "outputs = np.array([0, 0, 0, 1])\n",
        "#Checking the shape of the outputs\n",
        "# note it has one row  vector having 4 elements\n",
        "print(outputs.shape)\n"
      ],
      "metadata": {
        "colab": {
          "base_uri": "https://localhost:8080/"
        },
        "id": "9tfSbEJ9eHhT",
        "outputId": "cf4ab9d4-52af-4fc3-aafd-4d2a561e5634"
      },
      "execution_count": 100,
      "outputs": [
        {
          "output_type": "stream",
          "name": "stdout",
          "text": [
            "(4,)\n"
          ]
        }
      ]
    },
    {
      "cell_type": "code",
      "source": [
        "# one weight for x1 and one for x2\n",
        "weights = np.array([0.0, 0.0])\n",
        "print(weights.shape)"
      ],
      "metadata": {
        "colab": {
          "base_uri": "https://localhost:8080/"
        },
        "id": "DHndLtuMeLMM",
        "outputId": "ce86d73c-6b88-4e49-8e68-fc1d9ac1dbd0"
      },
      "execution_count": 101,
      "outputs": [
        {
          "output_type": "stream",
          "name": "stdout",
          "text": [
            "(2,)\n"
          ]
        }
      ]
    },
    {
      "cell_type": "code",
      "source": [
        "# cacluate the dot product for each instance in the input\n",
        "# also Note the output  of the preceptron for the given sample. does it perform AND operation?\n",
        "for i in range(len(inputs)):\n",
        "  print(\"sample is\", inputs[i] )\n",
        "  XW=sumofXW(inputs[i], weights)\n",
        "  print (\"sum of product of the first instance is\",XW)\n",
        "  OP=step_function(XW)\n",
        "  print( \"step function output for given sample\",OP,\"\\n\")"
      ],
      "metadata": {
        "colab": {
          "base_uri": "https://localhost:8080/"
        },
        "id": "sZADvEryeORU",
        "outputId": "d31c3612-858c-4204-9ec1-97a827586c24"
      },
      "execution_count": 102,
      "outputs": [
        {
          "output_type": "stream",
          "name": "stdout",
          "text": [
            "sample is [0 0]\n",
            "sum of product of the first instance is 0.0\n",
            "step function output for given sample 0 \n",
            "\n",
            "sample is [0 1]\n",
            "sum of product of the first instance is 0.0\n",
            "step function output for given sample 0 \n",
            "\n",
            "sample is [1 0]\n",
            "sum of product of the first instance is 0.0\n",
            "step function output for given sample 0 \n",
            "\n",
            "sample is [1 1]\n",
            "sum of product of the first instance is 0.0\n",
            "step function output for given sample 0 \n",
            "\n"
          ]
        }
      ]
    },
    {
      "cell_type": "code",
      "source": [
        "weights = np.array([0.0, 0.0])"
      ],
      "metadata": {
        "id": "1X0McZh6eRqy"
      },
      "execution_count": 103,
      "outputs": []
    },
    {
      "cell_type": "code",
      "source": [
        "LR=0.1\n",
        "\n",
        "def train():\n",
        "    #\n",
        "\n",
        "    print(\"Tweights\",weights)\n",
        "\n",
        "    total_error_value = 1\n",
        "    # While the total_error_value is not equal to zero. we are asumming that at the start of running our network there will be no zero\n",
        "    while (total_error_value != 0):\n",
        "        #making the total_error 0 so we can do other calculations\n",
        "        total_error_value = 0\n",
        "        #Looping into each row of the dataset (remember indexing in python starts at zero hence 0-3 which are 4 values)\n",
        "        for i in range(len(outputs)):\n",
        "            #Calculating predictions\n",
        "            XW=sumofXW(inputs[i], weights)\n",
        "            prediction = step_function(XW)\n",
        "            # Calculating the absolute value of the error\n",
        "            error = abs(outputs[i] - prediction)\n",
        "            print(\"error\",error)\n",
        "            #Updating the error\n",
        "            total_error_value  += error\n",
        "\n",
        "            if error > 0:\n",
        "                for j in range(len(weights)):\n",
        "                    #updating the weights for x1 and x2\n",
        "                    weights[j] = weights[j] + (LR * inputs[i][j] * error)\n",
        "                    print('Weight updated to: ' + str(weights[j]))\n",
        "        print('Total error Value: ' + str(total_error_value))"
      ],
      "metadata": {
        "id": "FJ18Cg-QeUz1"
      },
      "execution_count": 104,
      "outputs": []
    },
    {
      "cell_type": "code",
      "source": [
        "train()\n",
        "print(weights)"
      ],
      "metadata": {
        "colab": {
          "base_uri": "https://localhost:8080/"
        },
        "id": "jjnYxdaQeZb6",
        "outputId": "c31a7133-0f86-40fc-80b8-5bbc5f3a7cad"
      },
      "execution_count": 105,
      "outputs": [
        {
          "output_type": "stream",
          "name": "stdout",
          "text": [
            "Tweights [0. 0.]\n",
            "error 0\n",
            "error 0\n",
            "error 0\n",
            "error 1\n",
            "Weight updated to: 0.1\n",
            "Weight updated to: 0.1\n",
            "Total error Value: 1\n",
            "error 0\n",
            "error 0\n",
            "error 0\n",
            "error 1\n",
            "Weight updated to: 0.2\n",
            "Weight updated to: 0.2\n",
            "Total error Value: 1\n",
            "error 0\n",
            "error 0\n",
            "error 0\n",
            "error 1\n",
            "Weight updated to: 0.30000000000000004\n",
            "Weight updated to: 0.30000000000000004\n",
            "Total error Value: 1\n",
            "error 0\n",
            "error 0\n",
            "error 0\n",
            "error 1\n",
            "Weight updated to: 0.4\n",
            "Weight updated to: 0.4\n",
            "Total error Value: 1\n",
            "error 0\n",
            "error 0\n",
            "error 0\n",
            "error 1\n",
            "Weight updated to: 0.5\n",
            "Weight updated to: 0.5\n",
            "Total error Value: 1\n",
            "error 0\n",
            "error 0\n",
            "error 0\n",
            "error 0\n",
            "Total error Value: 0\n",
            "[0.5 0.5]\n"
          ]
        }
      ]
    },
    {
      "cell_type": "code",
      "source": [
        "print(weights)\n",
        "for i in range(len(inputs)):\n",
        "  print(\"sample is\", inputs[i] )\n",
        "  XW=sumofXW(inputs[i], weights)\n",
        "\n",
        "  OP=step_function(XW)\n",
        "  print( \"step function output for given sample\",OP,\"\\n\")"
      ],
      "metadata": {
        "colab": {
          "base_uri": "https://localhost:8080/"
        },
        "id": "MH58nSvqedej",
        "outputId": "7e5d48c3-1e4b-43af-9406-6767985a110b"
      },
      "execution_count": 106,
      "outputs": [
        {
          "output_type": "stream",
          "name": "stdout",
          "text": [
            "[0.5 0.5]\n",
            "sample is [0 0]\n",
            "step function output for given sample 0 \n",
            "\n",
            "sample is [0 1]\n",
            "step function output for given sample 0 \n",
            "\n",
            "sample is [1 0]\n",
            "step function output for given sample 0 \n",
            "\n",
            "sample is [1 1]\n",
            "step function output for given sample 1 \n",
            "\n"
          ]
        }
      ]
    }
  ]
}